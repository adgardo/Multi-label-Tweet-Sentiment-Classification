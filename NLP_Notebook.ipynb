{
 "cells": [
  {
   "cell_type": "code",
   "execution_count": 1,
   "metadata": {},
   "outputs": [
    {
     "name": "stdout",
     "output_type": "stream",
     "text": [
      "                                               Tweet  \\\n",
      "0  @aliciaenp Ajajjaa somos del clan twitteras pe...   \n",
      "1  @AwadaNai la mala suerte del gato fichame la c...   \n",
      "2  @audiomano A mí tampoco me agrado mucho eso. E...   \n",
      "3  Para llevar a los bebes de un lugar a otro deb...   \n",
      "4  @DalasReview me encanta la terrible hipocresia...   \n",
      "\n",
      "                                        Cleaned_Text  \n",
      "0  ajajjaa somos del clan twitteras perdidas pa e...  \n",
      "1  la mala suerte del gato fichame la cara de hel...  \n",
      "2  a mí tampoco me agrado mucho eso. especialment...  \n",
      "3  para llevar a los bebes de un lugar a otro deb...  \n",
      "4  me encanta la terrible hipocresia y doble mora...  \n",
      "Texto Original del Tweet (ID: 2018-Es-03459):\n",
      "@nahuivan15 innecesario comentario en mi opinión. Es q me ponia nerviosa man ataje mas q vos. 1 solo gol me hicieron\n",
      "\n",
      "Emociones:\n",
      "anger\n"
     ]
    }
   ],
   "source": [
    "import pandas as pd\n",
    "import re\n",
    "from sklearn.model_selection import train_test_split\n",
    "from transformers import BertTokenizer, BertForSequenceClassification, AdamW\n",
    "from torch.utils.data import TensorDataset, DataLoader, RandomSampler\n",
    "from sklearn.preprocessing import LabelEncoder\n",
    "import torch\n",
    "from tqdm.notebook import tqdm\n",
    "from sklearn.metrics import accuracy_score, classification_report\n",
    "import random\n",
    "\n",
    "# Función para limpiar el texto\n",
    "def clean_text(text):\n",
    "    text = text.lower()\n",
    "    text = re.sub(r'http\\S+', '', text)  # Eliminar URLs\n",
    "    text = re.sub(r'@\\w+', '', text)     # Eliminar menciones\n",
    "    text = re.sub(r'#\\w+', '', text)     # Eliminar hashtags\n",
    "    text = re.sub(r'\\s+', ' ', text).strip()  # Normalizar espacios en blanco\n",
    "    return text\n",
    "\n",
    "# Cargar el archivo CSV de entrenamiento\n",
    "df = pd.read_csv('sem_eval_train_es.csv')\n",
    "\n",
    "# Aplicar limpieza de texto a los tweets\n",
    "df['Cleaned_Text'] = df['Tweet'].apply(clean_text)\n",
    "\n",
    "# Mostrar las primeras filas del dataframe con los textos procesados\n",
    "print(df[['Tweet', 'Cleaned_Text']].head())\n",
    "\n",
    "# Seleccionar un índice aleatorio\n",
    "random_index = random.randint(0, len(df) - 1)\n",
    "\n",
    "# Obtener el tweet aleatorio y sus emociones\n",
    "tweet_row = df.iloc[random_index]\n",
    "tweet_id = tweet_row['ID']\n",
    "original_tweet = tweet_row['Tweet']\n",
    "emotions = tweet_row.drop(labels=['Tweet', 'Cleaned_Text', 'ID'])\n",
    "# Mostrar el texto original del tweet\n",
    "print(f'Texto Original del Tweet (ID: {tweet_id}):')\n",
    "print(original_tweet)\n",
    "\n",
    "# Mostrar las emociones que son True\n",
    "print('\\nEmociones:')\n",
    "for emotion, is_true in emotions.items():\n",
    "    if is_true:  # Comprobar si la emoción está marcada como True\n",
    "        print(emotion)"
   ]
  },
  {
   "cell_type": "code",
   "execution_count": 2,
   "metadata": {},
   "outputs": [
    {
     "name": "stdout",
     "output_type": "stream",
     "text": [
      "\n",
      "Número de tweets por categoría en el conjunto de entrenamiento:\n",
      "anger: 916 tweets\n",
      "anticipation: 322 tweets\n",
      "disgust: 415 tweets\n",
      "fear: 293 tweets\n",
      "joy: 885 tweets\n",
      "love: 213 tweets\n",
      "optimism: 299 tweets\n",
      "pessimism: 461 tweets\n",
      "sadness: 672 tweets\n",
      "surprise: 123 tweets\n",
      "trust: 145 tweets\n",
      "\n",
      "Número de tweets por categoría en el conjunto de prueba:\n",
      "anger: 239 tweets\n",
      "anticipation: 93 tweets\n",
      "disgust: 106 tweets\n",
      "fear: 80 tweets\n",
      "joy: 202 tweets\n",
      "love: 48 tweets\n",
      "optimism: 79 tweets\n",
      "pessimism: 117 tweets\n",
      "sadness: 173 tweets\n",
      "surprise: 46 tweets\n",
      "trust: 30 tweets\n"
     ]
    }
   ],
   "source": [
    "# Definir características (X) y etiquetas (y)\n",
    "X = df['Cleaned_Text']\n",
    "y = df.iloc[:, 2:13]  # Seleccionar solo las columnas de etiquetas emocionales\n",
    "\n",
    "# Dividir en entrenamiento y prueba\n",
    "X_train, X_test, y_train, y_test = train_test_split(X, y, test_size=0.2, random_state=24)\n",
    "\n",
    "# Convertir todas las etiquetas a cadenas de texto\n",
    "y_train = y_train.astype(str)\n",
    "y_test = y_test.astype(str)\n",
    "\n",
    "# Contar el número de tweets por categoría en entrenamiento\n",
    "print(\"\\nNúmero de tweets por categoría en el conjunto de entrenamiento:\")\n",
    "for col in y_train.columns:\n",
    "    print(f\"{col}: {sum(y_train[col] == 'True')} tweets\")\n",
    "\n",
    "# Contar el número de tweets por categoría en prueba\n",
    "print(\"\\nNúmero de tweets por categoría en el conjunto de prueba:\")\n",
    "for col in y_test.columns:\n",
    "    print(f\"{col}: {sum(y_test[col] == 'True')} tweets\")"
   ]
  },
  {
   "cell_type": "code",
   "execution_count": 3,
   "metadata": {},
   "outputs": [],
   "source": [
    "# Tokenizador preentrenado BERT para español\n",
    "tokenizer = BertTokenizer.from_pretrained('dccuchile/bert-base-spanish-wwm-uncased')\n",
    "\n",
    "# Tokenizar textos de entrenamiento\n",
    "train_encodings = tokenizer(list(X_train), truncation=True, padding=True, max_length=128, return_tensors='pt')\n",
    "test_encodings = tokenizer(list(X_test), truncation=True, padding=True, max_length=128, return_tensors='pt')\n",
    "\n",
    "# Convertir etiquetas a números usando LabelEncoder\n",
    "label_encoder = LabelEncoder()\n",
    "y_train_encoded = label_encoder.fit_transform(y_train.idxmax(axis=1))\n",
    "y_test_encoded = label_encoder.transform(y_test.idxmax(axis=1))\n",
    "\n",
    "# Crear tensores PyTorch para entrenamiento\n",
    "input_ids_train = train_encodings['input_ids']\n",
    "attention_masks_train = train_encodings['attention_mask']\n",
    "labels_train = torch.tensor(y_train_encoded, dtype=torch.long)\n",
    "\n",
    "# Crear tensores PyTorch para prueba\n",
    "input_ids_test = test_encodings['input_ids']\n",
    "attention_masks_test = test_encodings['attention_mask']\n",
    "labels_test = torch.tensor(y_test_encoded, dtype=torch.long)\n",
    "\n",
    "# Crear DataLoader para entrenamiento\n",
    "train_dataset = TensorDataset(input_ids_train, attention_masks_train, labels_train)\n",
    "train_sampler = RandomSampler(train_dataset)\n",
    "train_dataloader = DataLoader(train_dataset, sampler=train_sampler, batch_size=32)\n",
    "\n",
    "# Crear DataLoader para prueba\n",
    "test_dataset = TensorDataset(input_ids_test, attention_masks_test, labels_test)\n",
    "test_dataloader = DataLoader(test_dataset, batch_size=16)"
   ]
  },
  {
   "cell_type": "code",
   "execution_count": 4,
   "metadata": {},
   "outputs": [
    {
     "name": "stderr",
     "output_type": "stream",
     "text": [
      "[nltk_data] Downloading package wordnet to\n",
      "[nltk_data]     C:\\Users\\aderi\\AppData\\Roaming\\nltk_data...\n",
      "[nltk_data]   Package wordnet is already up-to-date!\n",
      "[nltk_data] Downloading package omw-1.4 to\n",
      "[nltk_data]     C:\\Users\\aderi\\AppData\\Roaming\\nltk_data...\n",
      "[nltk_data]   Package omw-1.4 is already up-to-date!\n"
     ]
    },
    {
     "data": {
      "text/plain": [
       "True"
      ]
     },
     "execution_count": 4,
     "metadata": {},
     "output_type": "execute_result"
    }
   ],
   "source": [
    "import nltk\n",
    "# Descargar los recursos necesarios\n",
    "nltk.download('wordnet')\n",
    "nltk.download('omw-1.4')"
   ]
  },
  {
   "cell_type": "markdown",
   "metadata": {},
   "source": [
    "BertForSequenceClassification(\n",
    "  (bert): BertModel(\n",
    "    (embeddings): BertEmbeddings(\n",
    "      (word_embeddings): Embedding(31002, 768, padding_idx=1)\n",
    "      (position_embeddings): Embedding(512, 768)\n",
    "      (token_type_embeddings): Embedding(2, 768)\n",
    "      (LayerNorm): LayerNorm((768,), eps=1e-12, elementwise_affine=True)\n",
    "      (dropout): Dropout(p=0.1, inplace=False)\n",
    "    )\n",
    "    (encoder): BertEncoder(\n",
    "      (layer): ModuleList(\n",
    "        (0-11): 12 x BertLayer(\n",
    "          (attention): BertAttention(\n",
    "            (self): BertSelfAttention(\n",
    "              (query): Linear(in_features=768, out_features=768, bias=True)\n",
    "              (key): Linear(in_features=768, out_features=768, bias=True)\n",
    "              (value): Linear(in_features=768, out_features=768, bias=True)\n",
    "              (dropout): Dropout(p=0.1, inplace=False)\n",
    "            )\n",
    "            (output): BertSelfOutput(\n",
    "              (dense): Linear(in_features=768, out_features=768, bias=True)\n",
    "              (LayerNorm): LayerNorm((768,), eps=1e-12, elementwise_affine=True)\n",
    "              (dropout): Dropout(p=0.1, inplace=False)\n",
    "            )\n",
    "          )\n",
    "          (intermediate): BertIntermediate(\n",
    "            (dense): Linear(in_features=768, out_features=3072, bias=True)\n",
    "            (intermediate_act_fn): GELUActivation()\n",
    "          )\n",
    "          (output): BertOutput(\n",
    "            (dense): Linear(in_features=3072, out_features=768, bias=True)\n",
    "            (LayerNorm): LayerNorm((768,), eps=1e-12, elementwise_affine=True)\n",
    "            (dropout): Dropout(p=0.1, inplace=False)\n",
    "          )\n",
    "        )\n",
    "      )\n",
    "    )\n",
    "    (pooler): BertPooler(\n",
    "      (dense): Linear(in_features=768, out_features=768, bias=True)\n",
    "      (activation): Tanh()\n",
    "    )\n",
    "  )\n",
    "  (dropout): Dropout(p=0.1, inplace=False)\n",
    "  (classifier): Linear(\n",
    "    in_features=768, out_features=11, bias=True\n",
    "    (dropout): Dropout(p=1.0, inplace=False)\n",
    "  )\n",
    ")\n",
    "Learning rate: 1.5e-05\n",
    "Weight decay: 1.0\n"
   ]
  },
  {
   "cell_type": "code",
   "execution_count": 5,
   "metadata": {},
   "outputs": [
    {
     "name": "stderr",
     "output_type": "stream",
     "text": [
      "Some weights of BertForSequenceClassification were not initialized from the model checkpoint at dccuchile/bert-base-spanish-wwm-uncased and are newly initialized: ['bert.pooler.dense.bias', 'bert.pooler.dense.weight', 'classifier.bias', 'classifier.weight']\n",
      "You should probably TRAIN this model on a down-stream task to be able to use it for predictions and inference.\n",
      "c:\\Users\\aderi\\anaconda3\\envs\\tf-gpu\\lib\\site-packages\\transformers\\optimization.py:429: FutureWarning: This implementation of AdamW is deprecated and will be removed in a future version. Use the PyTorch implementation torch.optim.AdamW instead, or set `no_deprecation_warning=True` to disable this warning\n",
      "  warnings.warn(\n"
     ]
    },
    {
     "name": "stdout",
     "output_type": "stream",
     "text": [
      "BertForSequenceClassification(\n",
      "  (bert): BertModel(\n",
      "    (embeddings): BertEmbeddings(\n",
      "      (word_embeddings): Embedding(31002, 768, padding_idx=1)\n",
      "      (position_embeddings): Embedding(512, 768)\n",
      "      (token_type_embeddings): Embedding(2, 768)\n",
      "      (LayerNorm): LayerNorm((768,), eps=1e-12, elementwise_affine=True)\n",
      "      (dropout): Dropout(p=0.1, inplace=False)\n",
      "    )\n",
      "    (encoder): BertEncoder(\n",
      "      (layer): ModuleList(\n",
      "        (0-11): 12 x BertLayer(\n",
      "          (attention): BertAttention(\n",
      "            (self): BertSelfAttention(\n",
      "              (query): Linear(in_features=768, out_features=768, bias=True)\n",
      "              (key): Linear(in_features=768, out_features=768, bias=True)\n",
      "              (value): Linear(in_features=768, out_features=768, bias=True)\n",
      "              (dropout): Dropout(p=0.1, inplace=False)\n",
      "            )\n",
      "            (output): BertSelfOutput(\n",
      "              (dense): Linear(in_features=768, out_features=768, bias=True)\n",
      "              (LayerNorm): LayerNorm((768,), eps=1e-12, elementwise_affine=True)\n",
      "              (dropout): Dropout(p=0.2, inplace=False)\n",
      "            )\n",
      "          )\n",
      "          (intermediate): BertIntermediate(\n",
      "            (dense): Linear(in_features=768, out_features=3072, bias=True)\n",
      "            (intermediate_act_fn): GELUActivation()\n",
      "          )\n",
      "          (output): BertOutput(\n",
      "            (dense): Linear(in_features=3072, out_features=768, bias=True)\n",
      "            (LayerNorm): LayerNorm((768,), eps=1e-12, elementwise_affine=True)\n",
      "            (dropout): Dropout(p=0.2, inplace=False)\n",
      "          )\n",
      "        )\n",
      "      )\n",
      "    )\n",
      "    (pooler): BertPooler(\n",
      "      (dense): Linear(in_features=768, out_features=768, bias=True)\n",
      "      (activation): Tanh()\n",
      "    )\n",
      "  )\n",
      "  (dropout): Dropout(p=0.1, inplace=False)\n",
      "  (classifier): Linear(\n",
      "    in_features=768, out_features=11, bias=True\n",
      "    (dropout): Dropout(p=0.2, inplace=False)\n",
      "  )\n",
      ")\n",
      "Learning rate: 2e-05\n",
      "Weight decay: 0.01\n",
      "Iniciando entrenamiento...\n"
     ]
    },
    {
     "name": "stderr",
     "output_type": "stream",
     "text": [
      "c:\\Users\\aderi\\anaconda3\\envs\\tf-gpu\\lib\\site-packages\\torch\\optim\\lr_scheduler.py:28: UserWarning: The verbose parameter is deprecated. Please use get_last_lr() to access the learning rate.\n",
      "  warnings.warn(\"The verbose parameter is deprecated. Please use get_last_lr() \"\n"
     ]
    },
    {
     "data": {
      "application/vnd.jupyter.widget-view+json": {
       "model_id": "99b9596d6a5d496c8777a88fe8e3721c",
       "version_major": 2,
       "version_minor": 0
      },
      "text/plain": [
       "Epoch 1/50:   0%|          | 0/89 [00:00<?, ?it/s]"
      ]
     },
     "metadata": {},
     "output_type": "display_data"
    },
    {
     "name": "stdout",
     "output_type": "stream",
     "text": [
      "Época 1/50\n",
      "Pérdida: 2.3652 | Precisión: 0.1650\n",
      "Precisión de validación después de la época 1: 0.3522\n",
      "Modelo guardado en bert_model_spanish_bal.pt\n"
     ]
    },
    {
     "data": {
      "application/vnd.jupyter.widget-view+json": {
       "model_id": "494fab12302247b088c25e011c8d8413",
       "version_major": 2,
       "version_minor": 0
      },
      "text/plain": [
       "Epoch 2/50:   0%|          | 0/89 [00:00<?, ?it/s]"
      ]
     },
     "metadata": {},
     "output_type": "display_data"
    },
    {
     "name": "stdout",
     "output_type": "stream",
     "text": [
      "Época 2/50\n",
      "Pérdida: 2.0668 | Precisión: 0.3588\n",
      "Precisión de validación después de la época 2: 0.3397\n"
     ]
    },
    {
     "data": {
      "application/vnd.jupyter.widget-view+json": {
       "model_id": "02b3faeeb6dd40ccbf73cf75bed638f6",
       "version_major": 2,
       "version_minor": 0
      },
      "text/plain": [
       "Epoch 3/50:   0%|          | 0/89 [00:00<?, ?it/s]"
      ]
     },
     "metadata": {},
     "output_type": "display_data"
    },
    {
     "name": "stdout",
     "output_type": "stream",
     "text": [
      "Época 3/50\n",
      "Pérdida: 1.5814 | Precisión: 0.4596\n",
      "Precisión de validación después de la época 3: 0.4102\n",
      "Modelo guardado en bert_model_spanish_bal.pt\n"
     ]
    },
    {
     "data": {
      "application/vnd.jupyter.widget-view+json": {
       "model_id": "a68449e0caa34b4dbed1cea36676d68f",
       "version_major": 2,
       "version_minor": 0
      },
      "text/plain": [
       "Epoch 4/50:   0%|          | 0/89 [00:00<?, ?it/s]"
      ]
     },
     "metadata": {},
     "output_type": "display_data"
    },
    {
     "name": "stdout",
     "output_type": "stream",
     "text": [
      "Época 4/50\n",
      "Pérdida: 1.1920 | Precisión: 0.5281\n",
      "Precisión de validación después de la época 4: 0.3765\n"
     ]
    },
    {
     "data": {
      "application/vnd.jupyter.widget-view+json": {
       "model_id": "8f46b4bb8b634360b5e67d5b815cb4ff",
       "version_major": 2,
       "version_minor": 0
      },
      "text/plain": [
       "Epoch 5/50:   0%|          | 0/89 [00:00<?, ?it/s]"
      ]
     },
     "metadata": {},
     "output_type": "display_data"
    },
    {
     "name": "stdout",
     "output_type": "stream",
     "text": [
      "Época 5/50\n",
      "Pérdida: 0.9451 | Precisión: 0.5811\n",
      "Precisión de validación después de la época 5: 0.4890\n",
      "Modelo guardado en bert_model_spanish_bal.pt\n"
     ]
    },
    {
     "data": {
      "application/vnd.jupyter.widget-view+json": {
       "model_id": "99450a4d92b14fb6b24fa0ea87be731b",
       "version_major": 2,
       "version_minor": 0
      },
      "text/plain": [
       "Epoch 6/50:   0%|          | 0/89 [00:00<?, ?it/s]"
      ]
     },
     "metadata": {},
     "output_type": "display_data"
    },
    {
     "name": "stdout",
     "output_type": "stream",
     "text": [
      "Época 6/50\n",
      "Pérdida: 0.7123 | Precisión: 0.6594\n",
      "Precisión de validación después de la época 6: 0.4651\n"
     ]
    },
    {
     "data": {
      "application/vnd.jupyter.widget-view+json": {
       "model_id": "146a7247a9db4641adb12bf942398b5b",
       "version_major": 2,
       "version_minor": 0
      },
      "text/plain": [
       "Epoch 7/50:   0%|          | 0/89 [00:00<?, ?it/s]"
      ]
     },
     "metadata": {},
     "output_type": "display_data"
    },
    {
     "name": "stdout",
     "output_type": "stream",
     "text": [
      "Época 7/50\n",
      "Pérdida: 0.5631 | Precisión: 0.7223\n",
      "Precisión de validación después de la época 7: 0.4610\n"
     ]
    },
    {
     "data": {
      "application/vnd.jupyter.widget-view+json": {
       "model_id": "f05760279bd245df8604a3ebb36d087e",
       "version_major": 2,
       "version_minor": 0
      },
      "text/plain": [
       "Epoch 8/50:   0%|          | 0/89 [00:00<?, ?it/s]"
      ]
     },
     "metadata": {},
     "output_type": "display_data"
    },
    {
     "name": "stdout",
     "output_type": "stream",
     "text": [
      "Época 8/50\n",
      "Pérdida: 0.4439 | Precisión: 0.7626\n",
      "Precisión de validación después de la época 8: 0.4832\n"
     ]
    },
    {
     "data": {
      "application/vnd.jupyter.widget-view+json": {
       "model_id": "663c29183311472987660808291b6053",
       "version_major": 2,
       "version_minor": 0
      },
      "text/plain": [
       "Epoch 9/50:   0%|          | 0/89 [00:00<?, ?it/s]"
      ]
     },
     "metadata": {},
     "output_type": "display_data"
    },
    {
     "name": "stdout",
     "output_type": "stream",
     "text": [
      "Época 9/50\n",
      "Pérdida: 0.3652 | Precisión: 0.8153\n",
      "Precisión de validación después de la época 9: 0.4915\n",
      "Modelo guardado en bert_model_spanish_bal.pt\n"
     ]
    },
    {
     "data": {
      "application/vnd.jupyter.widget-view+json": {
       "model_id": "50d31e6f813242c28b389875c99aad98",
       "version_major": 2,
       "version_minor": 0
      },
      "text/plain": [
       "Epoch 10/50:   0%|          | 0/89 [00:00<?, ?it/s]"
      ]
     },
     "metadata": {},
     "output_type": "display_data"
    },
    {
     "name": "stdout",
     "output_type": "stream",
     "text": [
      "Época 10/50\n",
      "Pérdida: 0.2711 | Precisión: 0.8599\n",
      "Precisión de validación después de la época 10: 0.5332\n",
      "Modelo guardado en bert_model_spanish_bal.pt\n"
     ]
    },
    {
     "data": {
      "application/vnd.jupyter.widget-view+json": {
       "model_id": "b53bb4222b5c4e92b233242e7a56f302",
       "version_major": 2,
       "version_minor": 0
      },
      "text/plain": [
       "Epoch 11/50:   0%|          | 0/89 [00:00<?, ?it/s]"
      ]
     },
     "metadata": {},
     "output_type": "display_data"
    },
    {
     "name": "stdout",
     "output_type": "stream",
     "text": [
      "Época 11/50\n",
      "Pérdida: 0.2739 | Precisión: 0.8539\n",
      "Precisión de validación después de la época 11: 0.5221\n"
     ]
    },
    {
     "data": {
      "application/vnd.jupyter.widget-view+json": {
       "model_id": "975457c4b59f4516b1276f0c9509eae5",
       "version_major": 2,
       "version_minor": 0
      },
      "text/plain": [
       "Epoch 12/50:   0%|          | 0/89 [00:00<?, ?it/s]"
      ]
     },
     "metadata": {},
     "output_type": "display_data"
    },
    {
     "name": "stdout",
     "output_type": "stream",
     "text": [
      "Época 12/50\n",
      "Pérdida: 0.2144 | Precisión: 0.8897\n",
      "Precisión de validación después de la época 12: 0.5491\n",
      "Modelo guardado en bert_model_spanish_bal.pt\n"
     ]
    },
    {
     "data": {
      "application/vnd.jupyter.widget-view+json": {
       "model_id": "1a300aea55184035913e47bfa9c9a544",
       "version_major": 2,
       "version_minor": 0
      },
      "text/plain": [
       "Epoch 13/50:   0%|          | 0/89 [00:00<?, ?it/s]"
      ]
     },
     "metadata": {},
     "output_type": "display_data"
    },
    {
     "name": "stdout",
     "output_type": "stream",
     "text": [
      "Época 13/50\n",
      "Pérdida: 0.2110 | Precisión: 0.9027\n",
      "Precisión de validación después de la época 13: 0.5127\n"
     ]
    },
    {
     "data": {
      "application/vnd.jupyter.widget-view+json": {
       "model_id": "3ec67d0c24284a00af0c80a397e24780",
       "version_major": 2,
       "version_minor": 0
      },
      "text/plain": [
       "Epoch 14/50:   0%|          | 0/89 [00:00<?, ?it/s]"
      ]
     },
     "metadata": {},
     "output_type": "display_data"
    },
    {
     "name": "stdout",
     "output_type": "stream",
     "text": [
      "Época 14/50\n",
      "Pérdida: 0.1690 | Precisión: 0.9175\n",
      "Precisión de validación después de la época 14: 0.5679\n",
      "Modelo guardado en bert_model_spanish_bal.pt\n"
     ]
    },
    {
     "data": {
      "application/vnd.jupyter.widget-view+json": {
       "model_id": "8374c4c3f723463e959b666eb5b49812",
       "version_major": 2,
       "version_minor": 0
      },
      "text/plain": [
       "Epoch 15/50:   0%|          | 0/89 [00:00<?, ?it/s]"
      ]
     },
     "metadata": {},
     "output_type": "display_data"
    },
    {
     "name": "stdout",
     "output_type": "stream",
     "text": [
      "Época 15/50\n",
      "Pérdida: 0.1362 | Precisión: 0.9308\n",
      "Precisión de validación después de la época 15: 0.5627\n"
     ]
    },
    {
     "data": {
      "application/vnd.jupyter.widget-view+json": {
       "model_id": "44f49e3399664c7f98c321296ce72b04",
       "version_major": 2,
       "version_minor": 0
      },
      "text/plain": [
       "Epoch 16/50:   0%|          | 0/89 [00:00<?, ?it/s]"
      ]
     },
     "metadata": {},
     "output_type": "display_data"
    },
    {
     "name": "stdout",
     "output_type": "stream",
     "text": [
      "Época 16/50\n",
      "Pérdida: 0.1389 | Precisión: 0.9382\n",
      "Precisión de validación después de la época 16: 0.5693\n",
      "Modelo guardado en bert_model_spanish_bal.pt\n"
     ]
    },
    {
     "data": {
      "application/vnd.jupyter.widget-view+json": {
       "model_id": "888e964d91f44a4dbe96b21149248eaf",
       "version_major": 2,
       "version_minor": 0
      },
      "text/plain": [
       "Epoch 17/50:   0%|          | 0/89 [00:00<?, ?it/s]"
      ]
     },
     "metadata": {},
     "output_type": "display_data"
    },
    {
     "name": "stdout",
     "output_type": "stream",
     "text": [
      "Época 17/50\n",
      "Pérdida: 0.1464 | Precisión: 0.9382\n",
      "Precisión de validación después de la época 17: 0.5596\n"
     ]
    },
    {
     "data": {
      "application/vnd.jupyter.widget-view+json": {
       "model_id": "7ef8cd6ae5d2417a99adfb565606c0ab",
       "version_major": 2,
       "version_minor": 0
      },
      "text/plain": [
       "Epoch 18/50:   0%|          | 0/89 [00:00<?, ?it/s]"
      ]
     },
     "metadata": {},
     "output_type": "display_data"
    },
    {
     "name": "stdout",
     "output_type": "stream",
     "text": [
      "Época 18/50\n",
      "Pérdida: 0.1481 | Precisión: 0.9393\n",
      "Precisión de validación después de la época 18: 0.5596\n"
     ]
    },
    {
     "data": {
      "application/vnd.jupyter.widget-view+json": {
       "model_id": "8609f467bcd24fa58397e171038a9ddd",
       "version_major": 2,
       "version_minor": 0
      },
      "text/plain": [
       "Epoch 19/50:   0%|          | 0/89 [00:00<?, ?it/s]"
      ]
     },
     "metadata": {},
     "output_type": "display_data"
    },
    {
     "name": "stdout",
     "output_type": "stream",
     "text": [
      "Época 19/50\n",
      "Pérdida: 0.1398 | Precisión: 0.9364\n",
      "Precisión de validación después de la época 19: 0.5373\n"
     ]
    },
    {
     "data": {
      "application/vnd.jupyter.widget-view+json": {
       "model_id": "5e4c377e83b64164a18b608b96160565",
       "version_major": 2,
       "version_minor": 0
      },
      "text/plain": [
       "Epoch 20/50:   0%|          | 0/89 [00:00<?, ?it/s]"
      ]
     },
     "metadata": {},
     "output_type": "display_data"
    },
    {
     "name": "stdout",
     "output_type": "stream",
     "text": [
      "Época 20/50\n",
      "Pérdida: 0.1155 | Precisión: 0.9522\n",
      "Precisión de validación después de la época 20: 0.5554\n"
     ]
    },
    {
     "data": {
      "application/vnd.jupyter.widget-view+json": {
       "model_id": "a13de6bc72da4b3c863ae4d6d3df8938",
       "version_major": 2,
       "version_minor": 0
      },
      "text/plain": [
       "Epoch 21/50:   0%|          | 0/89 [00:00<?, ?it/s]"
      ]
     },
     "metadata": {},
     "output_type": "display_data"
    },
    {
     "name": "stdout",
     "output_type": "stream",
     "text": [
      "Época 21/50\n",
      "Pérdida: 0.0759 | Precisión: 0.9712\n",
      "Precisión de validación después de la época 21: 0.5582\n"
     ]
    },
    {
     "data": {
      "application/vnd.jupyter.widget-view+json": {
       "model_id": "9ffa5fdd17864219be16bc794eb353fd",
       "version_major": 2,
       "version_minor": 0
      },
      "text/plain": [
       "Epoch 22/50:   0%|          | 0/89 [00:00<?, ?it/s]"
      ]
     },
     "metadata": {},
     "output_type": "display_data"
    },
    {
     "name": "stdout",
     "output_type": "stream",
     "text": [
      "Época 22/50\n",
      "Pérdida: 0.0639 | Precisión: 0.9782\n",
      "Precisión de validación después de la época 22: 0.5651\n"
     ]
    },
    {
     "data": {
      "application/vnd.jupyter.widget-view+json": {
       "model_id": "d8502b0269364c578684ee211f9d452b",
       "version_major": 2,
       "version_minor": 0
      },
      "text/plain": [
       "Epoch 23/50:   0%|          | 0/89 [00:00<?, ?it/s]"
      ]
     },
     "metadata": {},
     "output_type": "display_data"
    },
    {
     "name": "stdout",
     "output_type": "stream",
     "text": [
      "Época 23/50\n",
      "Pérdida: 0.0780 | Precisión: 0.9712\n",
      "Precisión de validación después de la época 23: 0.5540\n"
     ]
    },
    {
     "data": {
      "application/vnd.jupyter.widget-view+json": {
       "model_id": "cbd52bd58ffb4c5788a764d0fe28e60f",
       "version_major": 2,
       "version_minor": 0
      },
      "text/plain": [
       "Epoch 24/50:   0%|          | 0/89 [00:00<?, ?it/s]"
      ]
     },
     "metadata": {},
     "output_type": "display_data"
    },
    {
     "name": "stdout",
     "output_type": "stream",
     "text": [
      "Época 24/50\n",
      "Pérdida: 0.0740 | Precisión: 0.9772\n",
      "Precisión de validación después de la época 24: 0.5665\n"
     ]
    },
    {
     "data": {
      "application/vnd.jupyter.widget-view+json": {
       "model_id": "976fca48221a4b65a8ec593f12c78f6d",
       "version_major": 2,
       "version_minor": 0
      },
      "text/plain": [
       "Epoch 25/50:   0%|          | 0/89 [00:00<?, ?it/s]"
      ]
     },
     "metadata": {},
     "output_type": "display_data"
    },
    {
     "name": "stdout",
     "output_type": "stream",
     "text": [
      "Época 25/50\n",
      "Pérdida: 0.0749 | Precisión: 0.9754\n",
      "Precisión de validación después de la época 25: 0.5637\n"
     ]
    },
    {
     "data": {
      "application/vnd.jupyter.widget-view+json": {
       "model_id": "7f21133770fa4522956525aa30c63148",
       "version_major": 2,
       "version_minor": 0
      },
      "text/plain": [
       "Epoch 26/50:   0%|          | 0/89 [00:00<?, ?it/s]"
      ]
     },
     "metadata": {},
     "output_type": "display_data"
    },
    {
     "name": "stdout",
     "output_type": "stream",
     "text": [
      "Época 26/50\n",
      "Pérdida: 0.0681 | Precisión: 0.9772\n",
      "Precisión de validación después de la época 26: 0.5596\n",
      "No hubo mejora en la precisión de validación en 10 épocas consecutivas. Deteniendo entrenamiento.\n",
      "Entrenamiento completado.\n"
     ]
    }
   ],
   "source": [
    "import torch\n",
    "from transformers import BertForSequenceClassification, AdamW\n",
    "from torch.optim.lr_scheduler import ReduceLROnPlateau\n",
    "from sklearn.utils.class_weight import compute_class_weight\n",
    "from nltk.corpus import wordnet\n",
    "import random\n",
    "import numpy as np\n",
    "\n",
    "# Definir el dispositivo (GPU o CPU)\n",
    "device = torch.device(\"cuda\" if torch.cuda.is_available() else \"cpu\")\n",
    "\n",
    "# Modelo BERT base para clasificación con dropout\n",
    "model = BertForSequenceClassification.from_pretrained('dccuchile/bert-base-spanish-wwm-uncased', num_labels=11)\n",
    "\n",
    "# Optimizador con regularización\n",
    "optimizer = AdamW(model.parameters(), lr=2e-5, eps=1e-8, weight_decay=0.01)\n",
    "\n",
    "# Ajustar dropout en las capas de atención y salidas del encoder\n",
    "for i in range(12):  # iterar sobre las 12 capas del encoder\n",
    "    # Ajustar dropout en la capa de atención\n",
    "    #model.bert.encoder.layer[i].attention.self.dropout.p = 0.2\n",
    "\n",
    "    # Ajustar dropout en la salida de la capa\n",
    "    model.bert.encoder.layer[i].attention.output.dropout.p = 0.2\n",
    "    model.bert.encoder.layer[i].output.dropout.p = 0.2\n",
    "\n",
    "# Añadir dropout a la última capa de clasificación\n",
    "model.classifier.dropout = torch.nn.Dropout(p=0.2)\n",
    "\n",
    "model.to(device)\n",
    "\n",
    "# Imprimir la configuración del modelo para verificar\n",
    "print(model)\n",
    "\n",
    "\n",
    "\n",
    "# Verificar parámetros del optimizador\n",
    "for param_group in optimizer.param_groups:\n",
    "    print(f'Learning rate: {param_group[\"lr\"]}')\n",
    "    print(f'Weight decay: {param_group[\"weight_decay\"]}')\n",
    "    \n",
    "\n",
    "# Calcular las ponderaciones de clase\n",
    "train_labels = []\n",
    "for batch in train_dataloader:\n",
    "    train_labels.extend(batch[2].tolist())\n",
    "\n",
    "class_weights = compute_class_weight('balanced', classes=np.unique(train_labels), y=train_labels)\n",
    "class_weights = torch.tensor(class_weights, dtype=torch.float).to(device)\n",
    "\n",
    "# Definir la función de pérdida con ponderaciones de clase\n",
    "loss_fn = torch.nn.CrossEntropyLoss(weight=class_weights)\n",
    "\n",
    "# Función para calcular la precisión\n",
    "def accuracy(preds, labels):\n",
    "    pred_flat = torch.argmax(preds, dim=1).flatten()\n",
    "    labels_flat = labels.flatten()\n",
    "    return torch.sum(pred_flat == labels_flat).item() / len(labels_flat)\n",
    "\n",
    "# Funciones de data augmentation\n",
    "def get_synonyms(word):\n",
    "    synonyms = set()\n",
    "    for syn in wordnet.synsets(word, lang='spa'):\n",
    "        for lemma in syn.lemmas(lang='spa'):\n",
    "            synonym = lemma.name().replace('_', ' ')\n",
    "            if synonym != word:\n",
    "                synonyms.add(synonym)\n",
    "    return list(synonyms)\n",
    "\n",
    "def random_deletion(words, p=0.1):\n",
    "    if len(words) == 1:\n",
    "        return words\n",
    "    remaining = list(filter(lambda x: random.uniform(0, 1) > p, words))\n",
    "    if len(remaining) == 0:\n",
    "        return [random.choice(words)]\n",
    "    return remaining\n",
    "\n",
    "def random_swap(words, n=1):\n",
    "    if len(words) < 2:\n",
    "        return words\n",
    "    words = words.copy()\n",
    "    for _ in range(n):\n",
    "        idx1, idx2 = random.sample(range(len(words)), 2)\n",
    "        words[idx1], words[idx2] = words[idx2], words[idx1]\n",
    "    return words\n",
    "\n",
    "def data_augmentation(text):\n",
    "    words = text.split()\n",
    "    if random.uniform(0, 1) < 0.1:\n",
    "        words = random_deletion(words)\n",
    "    if random.uniform(0, 1) < 0.1:\n",
    "        words = random_swap(words)\n",
    "    if random.uniform(0, 1) < 0.1:\n",
    "        new_words = []\n",
    "        for word in words:\n",
    "            synonyms = get_synonyms(word)\n",
    "            if synonyms and random.uniform(0, 1) < 0.5:\n",
    "                new_words.append(random.choice(synonyms))\n",
    "            else:\n",
    "                new_words.append(word)\n",
    "        words = new_words\n",
    "    return ' '.join(words)\n",
    "\n",
    "# Función para entrenar el modelo y guardar el modelo al finalizar\n",
    "def train_model(model, train_dataloader, optimizer, device, epochs, validation_dataloader=None, save_path=None, patience=3):\n",
    "    print(\"Iniciando entrenamiento...\")\n",
    "    \n",
    "    # Scheduler ReduceLROnPlateau para ajuste dinámico del learning rate\n",
    "    scheduler = ReduceLROnPlateau(optimizer, mode='max', factor=0.25, patience=3, verbose=True)\n",
    "\n",
    "    best_val_accuracy = 0\n",
    "    patience_counter = 0\n",
    "\n",
    "    for epoch in range(epochs):\n",
    "        model.train()\n",
    "        total_loss = 0\n",
    "        total_accuracy = 0\n",
    "\n",
    "        for step, batch in enumerate(tqdm(train_dataloader, desc=f'Epoch {epoch + 1}/{epochs}')):\n",
    "            input_ids = batch[0].to(device)\n",
    "            attention_masks = batch[1].to(device)\n",
    "            labels = batch[2].to(device)\n",
    "\n",
    "            # Aplicar data augmentation a los textos\n",
    "            texts = [tokenizer.decode(ids, skip_special_tokens=True) for ids in input_ids]\n",
    "            augmented_texts = [data_augmentation(text) for text in texts]\n",
    "            \n",
    "            augmented_inputs = tokenizer(augmented_texts, padding=True, truncation=True, return_tensors=\"pt\").to(device)\n",
    "\n",
    "            model.zero_grad()\n",
    "\n",
    "            outputs = model(input_ids=augmented_inputs['input_ids'], attention_mask=augmented_inputs['attention_mask'])\n",
    "            logits = outputs.logits\n",
    "            loss = loss_fn(logits, labels)\n",
    "\n",
    "            total_loss += loss.item()\n",
    "            total_accuracy += accuracy(logits, labels)\n",
    "\n",
    "            loss.backward()\n",
    "            optimizer.step()\n",
    "\n",
    "        avg_loss = total_loss / len(train_dataloader)\n",
    "        avg_accuracy = total_accuracy / len(train_dataloader)\n",
    "\n",
    "        print(f'Época {epoch + 1}/{epochs}')\n",
    "        print(f'Pérdida: {avg_loss:.4f} | Precisión: {avg_accuracy:.4f}')\n",
    "\n",
    "        # Ajustar learning rate dinámicamente según la precisión de validación\n",
    "        if validation_dataloader:\n",
    "            model.eval()\n",
    "            val_accuracy = 0\n",
    "            for batch in validation_dataloader:\n",
    "                input_ids = batch[0].to(device)\n",
    "                attention_masks = batch[1].to(device)\n",
    "                labels = batch[2].to(device)\n",
    "\n",
    "                with torch.no_grad():\n",
    "                    outputs = model(input_ids=input_ids, attention_mask=attention_masks)\n",
    "                    logits = outputs.logits\n",
    "\n",
    "                val_accuracy += accuracy(logits, labels)\n",
    "\n",
    "            avg_val_accuracy = val_accuracy / len(validation_dataloader)\n",
    "            print(f'Precisión de validación después de la época {epoch + 1}: {avg_val_accuracy:.4f}')\n",
    "\n",
    "            # Actualizar learning rate según la precisión de validación\n",
    "            scheduler.step(avg_val_accuracy)\n",
    "\n",
    "            # Implementar early stopping\n",
    "            if avg_val_accuracy > best_val_accuracy:\n",
    "                best_val_accuracy = avg_val_accuracy\n",
    "                patience_counter = 0\n",
    "                # Guardar el mejor modelo\n",
    "                if save_path:\n",
    "                    torch.save(model.state_dict(), save_path)\n",
    "                    print(f'Modelo guardado en {save_path}')\n",
    "            else:\n",
    "                patience_counter += 1\n",
    "\n",
    "            if patience_counter >= patience:\n",
    "                print(f'No hubo mejora en la precisión de validación en {patience} épocas consecutivas. Deteniendo entrenamiento.')\n",
    "                break\n",
    "\n",
    "    print(\"Entrenamiento completado.\")\n",
    "\n",
    "train_model(model, train_dataloader, optimizer, device, epochs=50, validation_dataloader=test_dataloader, save_path='bert_model_spanish_bal.pt', patience=10)"
   ]
  },
  {
   "cell_type": "code",
   "execution_count": 8,
   "metadata": {},
   "outputs": [
    {
     "name": "stdout",
     "output_type": "stream",
     "text": [
      "              precision    recall  f1-score   support\n",
      "\n",
      "       anger       0.71      0.69      0.70       272\n",
      "anticipation       0.47      0.38      0.42        77\n",
      "     disgust       0.11      0.09      0.10        23\n",
      "        fear       0.55      0.62      0.58        55\n",
      "         joy       0.59      0.69      0.63       153\n",
      "        love       0.38      0.38      0.38        16\n",
      "    optimism       0.29      0.38      0.33        13\n",
      "   pessimism       0.26      0.29      0.27        42\n",
      "     sadness       0.44      0.33      0.38        48\n",
      "    surprise       0.20      0.09      0.12        11\n",
      "       trust       0.00      0.00      0.00         3\n",
      "\n",
      "    accuracy                           0.56       713\n",
      "   macro avg       0.36      0.36      0.36       713\n",
      "weighted avg       0.55      0.56      0.55       713\n",
      "\n"
     ]
    },
    {
     "data": {
      "image/png": "[encoded data removed]",
      "text/plain": [
       "<Figure size 640x480 with 2 Axes>"
      ]
     },
     "metadata": {},
     "output_type": "display_data"
    }
   ],
   "source": [
    "from sklearn.metrics import accuracy_score, classification_report, confusion_matrix\n",
    "import matplotlib.pyplot as plt\n",
    "\n",
    "def plot_confusion_matrix(y_true, y_pred, classes, normalize=False, title=None, cmap=plt.cm.Blues):\n",
    "\n",
    "    if not title:\n",
    "        if normalize:\n",
    "            title = 'Matriz de Confusión Normalizada'\n",
    "        else:\n",
    "            title = 'Matriz de Confusión sin Normalizar'\n",
    "\n",
    "    # calcular confusion matrix\n",
    "    cm = confusion_matrix(y_true, y_pred, labels=classes)\n",
    "    \n",
    "    # Normalizar confusion matrix\n",
    "    if normalize:\n",
    "        cm = cm.astype('float') / cm.sum(axis=1)[:, np.newaxis]\n",
    "\n",
    "    # imprimir confusion matrix\n",
    "    fig, ax = plt.subplots()\n",
    "    im = ax.imshow(cm, interpolation='nearest', cmap=cmap)\n",
    "    ax.figure.colorbar(im, ax=ax)\n",
    "    ax.set(xticks=np.arange(cm.shape[1]),\n",
    "           yticks=np.arange(cm.shape[0]),\n",
    "           xticklabels=classes, yticklabels=classes,\n",
    "           title=title,\n",
    "           ylabel='Etiqueta Verdadera',\n",
    "           xlabel='Etiqueta Predicha')\n",
    "\n",
    "    plt.setp(ax.get_xticklabels(), rotation=45, ha=\"right\",\n",
    "             rotation_mode=\"anchor\")\n",
    "\n",
    "    fmt = '.2f' if normalize else 'd'\n",
    "    thresh = cm.max() / 2.\n",
    "    for i in range(cm.shape[0]):\n",
    "        for j in range(cm.shape[1]):\n",
    "            ax.text(j, i, format(cm[i, j], fmt),\n",
    "                    ha=\"center\", va=\"center\",\n",
    "                    color=\"white\" if cm[i, j] > thresh else \"black\")\n",
    "    fig.tight_layout()\n",
    "    return ax\n",
    "\n",
    "\n",
    "# Función para evaluar el modelo en el conjunto de prueba y mostrar la matriz de confusión\n",
    "def evaluate_model(model, test_dataloader, device):\n",
    "    model.eval()\n",
    "    y_true = []\n",
    "    y_pred = []\n",
    "\n",
    "    for batch in test_dataloader:\n",
    "        input_ids = batch[0].to(device)\n",
    "        attention_masks = batch[1].to(device)\n",
    "        labels = batch[2].to(device)\n",
    "\n",
    "        with torch.no_grad():\n",
    "            outputs = model(input_ids=input_ids, attention_mask=attention_masks)\n",
    "            logits = outputs.logits\n",
    "\n",
    "        preds = torch.argmax(logits, dim=1)\n",
    "        y_true.extend(labels.tolist())\n",
    "        y_pred.extend(preds.tolist())\n",
    "\n",
    "    # Convertir las etiquetas de vuelta al formato original\n",
    "    y_true = label_encoder.inverse_transform(y_true)\n",
    "    y_pred = label_encoder.inverse_transform(y_pred)\n",
    "\n",
    "    # Mostrar métricas de clasificación\n",
    "    print(classification_report(y_true, y_pred))\n",
    "\n",
    "    # Mostrar matriz de confusión\n",
    "    unique_labels = np.unique(y_true)\n",
    "    plot_confusion_matrix(y_true, y_pred, classes=unique_labels)\n",
    "\n",
    "evaluate_model(model, test_dataloader, device)"
   ]
  },
  {
   "cell_type": "markdown",
   "metadata": {},
   "source": [
    "Se ha entrenado un modelo de clasificación de secuencias basado en BERT para español.\n",
    "Se ha empleado el optimizador AdamW, y probado con diferentes hiperparámetros (LR, y wieght decay, también diferentes valores de dropout en diferentes capas del modelo).\n",
    "También se ha probado diferentes schedulers para ir reduciendo el lr en función de la precisión de validación, y diferentes ratios entre tamaño de entrenamiento y test.\n",
    "\n",
    "Pese a que se alcanza una pérdida baja y una precisión alta en el conjunto de entrenamiento, la precisión en el conjunto de validación es de 0,56.\n",
    "El modelo tiene bastantes problemas en generalizar, quizás se deba a que el dataset de entrenamiento no es muy grande, y está bastante desbalanceado, habiendo muchos tweets categorizados como anger y joy, y pocos como trust, surprise y love.\n",
    "\n",
    "Además, hay que tener en cuenta que el etiquetado es subjetivo, puesto que se trata de emociones, y no es fácil clasificar la intención del autor.\n",
    "\n",
    "Se ha intentado compensar el desbalanceo del dataset asignando pesos, y se ha recurrido a técnicas de data augmentation, aunque no han mejorado mucho los resultados.\n",
    "Se ha probado diferentes valores de hiperparámetros, como el LR\n",
    "\n",
    "El modelo muestra un buen rendimiento en la clasificación de emociones como \"anger\" (enojo) y \"joy\" (alegría), con F1-scores superiores a 0.60.\n",
    "Emociones como \"disgust\" (disgusto), \"surprise\" (sorpresa) y \"trust\" (confianza) tienen un desempeño muy pobre, con F1-scores cercanos a 0.\n",
    "La precisión global (accuracy) del 56% es aceptable, pero la baja macro average indica que el modelo tiene problemas significativos con varias emociones.\n",
    "\n",
    "Número de tweets por categoría en el conjunto de entrenamiento:\n",
    "anger: 916 tweets\n",
    "anticipation: 322 tweets\n",
    "disgust: 415 tweets\n",
    "fear: 293 tweets\n",
    "joy: 885 tweets\n",
    "love: 213 tweets\n",
    "optimism: 299 tweets\n",
    "pessimism: 461 tweets\n",
    "sadness: 672 tweets\n",
    "surprise: 123 tweets\n",
    "trust: 145 tweets\n",
    "\n",
    "\n"
   ]
  },
  {
   "cell_type": "code",
   "execution_count": 14,
   "metadata": {},
   "outputs": [
    {
     "name": "stdout",
     "output_type": "stream",
     "text": [
      "Resultados guardados en soluciones_Adrian_Garcia_Domingo.csv\n"
     ]
    }
   ],
   "source": [
    "# Cargar el conjunto de evaluación ciego\n",
    "eval_df = pd.read_csv('sem_eval_test_blank_es.csv')\n",
    "\n",
    "# Limpiar el texto\n",
    "def clean_text(text):\n",
    "    text = text.lower()\n",
    "    text = re.sub(r'http\\S+', '', text)  # Eliminar URLs\n",
    "    text = re.sub(r'@\\w+', '', text)     # Eliminar menciones\n",
    "    text = re.sub(r'#\\w+', '', text)     # Eliminar hashtags\n",
    "    text = re.sub(r'\\s+', ' ', text).strip()  # Normalizar espacios en blanco\n",
    "    return text\n",
    "\n",
    "eval_df['Cleaned_Text'] = eval_df['Tweet'].apply(clean_text)\n",
    "\n",
    "# Tokenizar textos de prueba\n",
    "test_encodings = tokenizer(list(eval_df['Cleaned_Text']), truncation=True, padding=True, max_length=150, return_tensors='pt')\n",
    "\n",
    "# Crear tensores PyTorch para prueba\n",
    "input_ids_test = test_encodings['input_ids']\n",
    "attention_masks_test = test_encodings['attention_mask']\n",
    "\n",
    "# Crear DataLoader para el conjunto de evaluación ciego\n",
    "eval_dataset = TensorDataset(input_ids_test, attention_masks_test)\n",
    "eval_dataloader = DataLoader(eval_dataset, batch_size=32)\n",
    "\n",
    "# Función para evaluar el modelo en el conjunto de evaluación\n",
    "def predict_model(model, eval_dataloader, device):\n",
    "    model.eval()\n",
    "    predictions = []\n",
    "\n",
    "    for batch in eval_dataloader:\n",
    "        input_ids = batch[0].to(device)\n",
    "        attention_masks = batch[1].to(device)\n",
    "\n",
    "        with torch.no_grad():\n",
    "            outputs = model(input_ids, attention_mask=attention_masks)\n",
    "            logits = outputs.logits\n",
    "\n",
    "        # Añadir las predicciones sin aplicar la función de activación\n",
    "        predictions.extend(logits.cpu().numpy())\n",
    "\n",
    "    return predictions\n",
    "\n",
    "# Generar predicciones\n",
    "predictions = predict_model(model, eval_dataloader, device)\n",
    "\n",
    "# Aplicar la función de activación (sigmoid) para la clasificación multietiqueta\n",
    "sigmoid = torch.nn.Sigmoid()\n",
    "predictions = sigmoid(torch.tensor(predictions)).numpy()\n",
    "\n",
    "# Convertir predicciones a etiquetas binarias (umbral 0.5)\n",
    "pred_labels = (predictions > 0.5)\n",
    "\n",
    "# Crear DataFrame de resultados\n",
    "results_df = pd.DataFrame(pred_labels, columns=[\n",
    "    'anger', 'anticipation', 'disgust', 'fear', 'joy', 'love', 'optimism', 'pessimism', 'sadness', 'surprise', 'trust'\n",
    "])\n",
    "\n",
    "# Insertar la columna ID desde el DataFrame original\n",
    "results_df.insert(0, 'ID', eval_df['ID'])\n",
    "\n",
    "# Guardar el DataFrame como un archivo CSV\n",
    "output_filename = 'soluciones_Adrian_Garcia_Domingo.csv'\n",
    "results_df.to_csv(output_filename, index=False)\n",
    "\n",
    "print(f'Resultados guardados en {output_filename}')\n"
   ]
  },
  {
   "cell_type": "code",
   "execution_count": 15,
   "metadata": {},
   "outputs": [
    {
     "name": "stdout",
     "output_type": "stream",
     "text": [
      "<class 'pandas.core.frame.DataFrame'>\n",
      "RangeIndex: 679 entries, 0 to 678\n",
      "Data columns (total 12 columns):\n",
      " #   Column        Non-Null Count  Dtype \n",
      "---  ------        --------------  ----- \n",
      " 0   ID            679 non-null    object\n",
      " 1   anger         679 non-null    bool  \n",
      " 2   anticipation  679 non-null    bool  \n",
      " 3   disgust       679 non-null    bool  \n",
      " 4   fear          679 non-null    bool  \n",
      " 5   joy           679 non-null    bool  \n",
      " 6   love          679 non-null    bool  \n",
      " 7   optimism      679 non-null    bool  \n",
      " 8   pessimism     679 non-null    bool  \n",
      " 9   sadness       679 non-null    bool  \n",
      " 10  surprise      679 non-null    bool  \n",
      " 11  trust         679 non-null    bool  \n",
      "dtypes: bool(11), object(1)\n",
      "memory usage: 12.7+ KB\n",
      "None\n"
     ]
    }
   ],
   "source": [
    "# Cargar el archivo CSV generado\n",
    "df2 = pd.read_csv('soluciones_Adrian_Garcia_Domingo.csv')\n",
    "\n",
    "# Mostrar información básica del DataFrame\n",
    "print(df2.info())\n"
   ]
  },
  {
   "cell_type": "code",
   "execution_count": 16,
   "metadata": {},
   "outputs": [
    {
     "name": "stdout",
     "output_type": "stream",
     "text": [
      "Cantidad de tweets por emoción:\n",
      "Anger: 573\n",
      "Anticipation: 243\n",
      "Disgust: 133\n",
      "Fear: 202\n",
      "Joy: 468\n",
      "Love: 62\n",
      "Optimism: 127\n",
      "Pessimism: 195\n",
      "Sadness: 171\n",
      "Surprise: 78\n",
      "Trust: 45\n",
      "Texto Original del Tweet (ID: 2018-Es-04091):\n",
      "Mujeres que tienen nombre de perras y le hacen honor a el 😅\n",
      "\n",
      "Emociones Predichas:\n",
      "anger\n",
      "joy\n"
     ]
    }
   ],
   "source": [
    "# Contar la cantidad de tweets por cada emoción\n",
    "anger_count = results_df['anger'].sum()\n",
    "anticipation_count = results_df['anticipation'].sum()\n",
    "disgust_count = results_df['disgust'].sum()\n",
    "fear_count = results_df['fear'].sum()\n",
    "joy_count = results_df['joy'].sum()\n",
    "love_count = results_df['love'].sum()\n",
    "optimism_count = results_df['optimism'].sum()\n",
    "pessimism_count = results_df['pessimism'].sum()\n",
    "sadness_count = results_df['sadness'].sum()\n",
    "surprise_count = results_df['surprise'].sum()\n",
    "trust_count = results_df['trust'].sum()\n",
    "\n",
    "# Mostrar los resultados\n",
    "print(f'Cantidad de tweets por emoción:')\n",
    "print(f'Anger: {anger_count}')\n",
    "print(f'Anticipation: {anticipation_count}')\n",
    "print(f'Disgust: {disgust_count}')\n",
    "print(f'Fear: {fear_count}')\n",
    "print(f'Joy: {joy_count}')\n",
    "print(f'Love: {love_count}')\n",
    "print(f'Optimism: {optimism_count}')\n",
    "print(f'Pessimism: {pessimism_count}')\n",
    "print(f'Sadness: {sadness_count}')\n",
    "print(f'Surprise: {surprise_count}')\n",
    "print(f'Trust: {trust_count}')\n",
    "\n",
    "\n",
    "\n",
    "# Seleccionar un índice aleatorio\n",
    "random_index = random.randint(0, len(results_df) - 1)\n",
    "\n",
    "# Obtener el texto original y las emociones predichas\n",
    "tweet_id = results_df.iloc[random_index]['ID']\n",
    "original_tweet = eval_df[eval_df['ID'] == tweet_id]['Tweet'].values[0]\n",
    "predicted_emotions = results_df.iloc[random_index, 1:]  # Excluir la columna ID\n",
    "\n",
    "# Mostrar el texto original del tweet\n",
    "print(f'Texto Original del Tweet (ID: {tweet_id}):')\n",
    "print(original_tweet)\n",
    "\n",
    "# Mostrar las emociones predichas que son True\n",
    "print('\\nEmociones Predichas:')\n",
    "for emotion, is_true in predicted_emotions.items():\n",
    "    if is_true:\n",
    "        print(emotion)\n"
   ]
  }
 ],
 "metadata": {
  "kernelspec": {
   "display_name": "tf-gpu",
   "language": "python",
   "name": "python3"
  },
  "language_info": {
   "codemirror_mode": {
    "name": "ipython",
    "version": 3
   },
   "file_extension": ".py",
   "mimetype": "text/x-python",
   "name": "python",
   "nbconvert_exporter": "python",
   "pygments_lexer": "ipython3",
   "version": "3.9.18"
  }
 },
 "nbformat": 4,
 "nbformat_minor": 2
}
